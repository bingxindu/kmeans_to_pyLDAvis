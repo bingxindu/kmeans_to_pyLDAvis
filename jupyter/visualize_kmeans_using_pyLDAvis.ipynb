{
 "cells": [
  {
   "cell_type": "code",
   "execution_count": 1,
   "metadata": {
    "collapsed": true
   },
   "outputs": [],
   "source": [
    "# Load data\n",
    "\n",
    "import pickle\n",
    "with open('../jupyter/2016-10-20-news-kmeans500.pkl', 'rb') as f:\n",
    "    params = pickle.load(f)\n",
    "    centers = params['centers']\n",
    "    labels = params['labels']\n",
    "with open('../data/2016-10-20-news-bow.pkl', 'rb') as f:\n",
    "    params = pickle.load(f)\n",
    "    x = params['x']\n",
    "    index2word = params['index2word']"
   ]
  },
  {
   "cell_type": "code",
   "execution_count": 2,
   "metadata": {},
   "outputs": [
    {
     "name": "stderr",
     "output_type": "stream",
     "text": [
      "/home/lovit/anaconda2/envs/scrapper/lib/python3.6/importlib/_bootstrap.py:205: RuntimeWarning: numpy.dtype size changed, may indicate binary incompatibility. Expected 96, got 88\n",
      "  return f(*args, **kwds)\n",
      "../pyLDAvis_for_kmeans/_prepare.py:79: RuntimeWarning: invalid value encountered in true_divide\n",
      "  l1_normalize = lambda x:x/x.sum()\n",
      "../pyLDAvis_for_kmeans/_prepare.py:116: RuntimeWarning: invalid value encountered in greater\n",
      "  indices = np.where(p_prop > 0)[0]\n",
      "../pyLDAvis_for_kmeans/utils.py:9: FutureWarning: from_csv is deprecated. Please use read_csv(...) instead. Note that some of the default arguments are different, so please refer to the documentation for from_csv when changing your function calls\n",
      "  return pd.DataFrame.from_csv('./topic_coordinates.csv')\n",
      "../pyLDAvis_for_kmeans/utils.py:17: FutureWarning: from_csv is deprecated. Please use read_csv(...) instead. Note that some of the default arguments are different, so please refer to the documentation for from_csv when changing your function calls\n",
      "  return pd.DataFrame.from_csv('./topic_info.csv')\n",
      "../pyLDAvis_for_kmeans/utils.py:25: FutureWarning: from_csv is deprecated. Please use read_csv(...) instead. Note that some of the default arguments are different, so please refer to the documentation for from_csv when changing your function calls\n",
      "  return pd.DataFrame.from_csv('./token_table.csv')\n"
     ]
    }
   ],
   "source": [
    "# visualize\n",
    "\n",
    "import sys\n",
    "sys.path.append('../')\n",
    "from kmeans_visualizer import kmeans_to_prepared_data\n",
    "\n",
    "prepared_data = kmeans_to_prepared_data(x, index2word, centers, labels)"
   ]
  },
  {
   "cell_type": "code",
   "execution_count": 5,
   "metadata": {},
   "outputs": [],
   "source": [
    "import pyLDAvis\n",
    "\n",
    "pyLDAvis.save_html(prepared_data, 'kmeans_pyLDAvis.html')\n",
    "# pyLDAvis.display(prepared_data)"
   ]
  },
  {
   "cell_type": "code",
   "execution_count": null,
   "metadata": {
    "collapsed": true
   },
   "outputs": [],
   "source": []
  }
 ],
 "metadata": {
  "kernelspec": {
   "display_name": "Python 3",
   "language": "python",
   "name": "python3"
  },
  "language_info": {
   "codemirror_mode": {
    "name": "ipython",
    "version": 3
   },
   "file_extension": ".py",
   "mimetype": "text/x-python",
   "name": "python",
   "nbconvert_exporter": "python",
   "pygments_lexer": "ipython3",
   "version": "3.6.2"
  }
 },
 "nbformat": 4,
 "nbformat_minor": 2
}
